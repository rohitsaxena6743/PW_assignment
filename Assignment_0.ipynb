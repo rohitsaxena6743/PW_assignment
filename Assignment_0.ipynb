{
 "cells": [
  {
   "cell_type": "markdown",
   "id": "6be982b8-06af-4433-8902-7cd0dd2113ad",
   "metadata": {},
   "source": [
    "Q1. Q1. Create one variable containing following type of data:\n",
    "(i) string\n",
    "(ii) list\n",
    "(iii) float\n",
    "(iv) tuple"
   ]
  },
  {
   "cell_type": "code",
   "execution_count": 4,
   "id": "5bffbba1-50f5-4745-986e-e6d1f80c08e1",
   "metadata": {},
   "outputs": [
    {
     "name": "stdout",
     "output_type": "stream",
     "text": [
      "<class 'str'>\n",
      "<class 'list'>\n",
      "<class 'float'>\n",
      "<class 'tuple'>\n"
     ]
    }
   ],
   "source": [
    "# Code for Q1.\n",
    "strr = \"ROHIT\" # this var  hold string data type\n",
    "print(type(strr))\n",
    "\n",
    "lis = [2,3,4,5,6,67,4] # Hold list\n",
    "print(type(lis))\n",
    "\n",
    "flo = 123.03 # this var hold floting point values\n",
    "print(type(flo))\n",
    "\n",
    "tupl = (1,2,3,4,5) # This car hold tuple \n",
    "print(type(tupl))"
   ]
  },
  {
   "cell_type": "markdown",
   "id": "b4914bbf-156b-44ea-9fde-3e0732284772",
   "metadata": {},
   "source": [
    "Q2. Given are some following variables containing data:\n",
    "(i) var1 = ‘ ‘\n",
    "(ii) var2 = ‘[ DS , ML , Python]’\n",
    "(iii) var3 = [ ‘DS’ , ’ML’ , ‘Python’ ]\n",
    "(iv) var4 = 1.\n",
    "\n",
    "What will be the data type of the above given variable."
   ]
  },
  {
   "cell_type": "code",
   "execution_count": 5,
   "id": "713fbf7c-f6f5-4540-8520-b04d20073452",
   "metadata": {},
   "outputs": [
    {
     "name": "stdout",
     "output_type": "stream",
     "text": [
      "the type of var1 is: <class 'str'>\n",
      "the type of var2 is: <class 'str'>\n",
      "the type of var3 is: <class 'list'>\n",
      "the type of var4 is: <class 'int'>\n"
     ]
    }
   ],
   "source": [
    "# Code for Q3.\n",
    "var1 = ' ' \n",
    "var2 = '[DS , ML , Python ]'\n",
    "var3 = ['DS', 'ML' , 'Python']\n",
    "var4 = 1\n",
    "\n",
    "# Let's check the type of these given variables\n",
    "\n",
    "print(\"the type of var1 is:\",type(var1)) \n",
    "print(\"the type of var2 is:\",type(var2)) \n",
    "print(\"the type of var3 is:\",type(var3)) \n",
    "print(\"the type of var4 is:\",type(var4)) "
   ]
  },
  {
   "cell_type": "markdown",
   "id": "6c80ade2-6372-4325-ba76-65ea134fd079",
   "metadata": {},
   "source": [
    "Q3. Explain the use of the following operators using an example:\n",
    "(i) /\n",
    "(ii) %\n",
    "(iii) //\n",
    "(iv) **"
   ]
  },
  {
   "cell_type": "code",
   "execution_count": 7,
   "id": "ca5e76d9-9130-421d-9265-6f800a03fc0c",
   "metadata": {},
   "outputs": [
    {
     "name": "stdout",
     "output_type": "stream",
     "text": [
      "Use of / devide  5.0\n",
      "Use of % Modules  5.0\n",
      "Use of //  5\n",
      "Use of ** devide  100\n"
     ]
    }
   ],
   "source": [
    "# Code for these operator\n",
    "a = 10\n",
    "b = 2 \n",
    "\n",
    "print(\"Use of / devide \",a/b) # it used to deivde No.\n",
    "print(\"Use of % Modules \",a/b) # It is used to get reminder\n",
    "print(\"Use of // \",a//b)  # it will a whole no. after division\n",
    "print(\"Use of ** devide \",a**b) # it will provide squre.\n"
   ]
  },
  {
   "cell_type": "code",
   "execution_count": null,
   "id": "78c031ea-09fc-460d-9968-9a6feac161d7",
   "metadata": {},
   "outputs": [],
   "source": []
  },
  {
   "cell_type": "markdown",
   "id": "ef831ef6-ab19-4ef5-86ba-05d9992ab01b",
   "metadata": {},
   "source": [
    "Q4. Create a list of length 10 of your choice containing multiple types of data. Using for loop print the\n",
    "element and its data type."
   ]
  },
  {
   "cell_type": "code",
   "execution_count": 2,
   "id": "972fc088-4056-4c94-8cad-4ff22f7bb36b",
   "metadata": {},
   "outputs": [
    {
     "name": "stdout",
     "output_type": "stream",
     "text": [
      "<class 'int'>\n",
      "<class 'str'>\n",
      "<class 'float'>\n",
      "<class 'complex'>\n",
      "<class 'bool'>\n",
      "<class 'list'>\n",
      "<class 'tuple'>\n",
      "<class 'dict'>\n",
      "<class 'int'>\n",
      "<class 'str'>\n"
     ]
    }
   ],
   "source": [
    "#### Code for Q4.\n",
    "lis = [1,'rohit',2.08,3+6j,True,[1,2,3],(2,3,5),{'name':\"rohit\"},131,'saxena']\n",
    "for i in lis:\n",
    "    print(type(i))\n",
    "    "
   ]
  },
  {
   "cell_type": "markdown",
   "id": "01b4208b-66a6-44dd-ae89-5fa655b44df8",
   "metadata": {},
   "source": [
    "Q5. Using a while loop, verify if the number A is purely divisible by number B and if so then how many\n",
    "times it can be divisible."
   ]
  },
  {
   "cell_type": "code",
   "execution_count": null,
   "id": "36774658-5278-44c8-b7c1-93a20323a46a",
   "metadata": {
    "tags": []
   },
   "outputs": [],
   "source": [
    "# Code for Q5.\n",
    "A = int(input(\"Enter Value in A Number\"))\n",
    "B = int(input(\"Enter Value in B Number\"))\n",
    "count = 0\n",
    "while A % B == 0:\n",
    "    count += 1\n",
    "if count > 0 :\n",
    "    print(count,\"Time divisivol\")\n",
    "else:\n",
    "    print(\"Number is Not divisivol by B\")"
   ]
  },
  {
   "cell_type": "markdown",
   "id": "0348c86c-9299-4e5d-8433-10e1767a9475",
   "metadata": {},
   "source": [
    "Q6. Create a list containing 25 int type data. Using for loop and if-else condition print if the element is\n",
    "divisible by 3 or not."
   ]
  },
  {
   "cell_type": "code",
   "execution_count": 1,
   "id": "370216f2-4798-4df7-bfb9-78ea9e5af84a",
   "metadata": {},
   "outputs": [
    {
     "name": "stdout",
     "output_type": "stream",
     "text": [
      "3 Is divisiviol by 3\n",
      "6 Is divisiviol by 3\n",
      "9 Is divisiviol by 3\n",
      "12 Is divisiviol by 3\n",
      "15 Is divisiviol by 3\n",
      "18 Is divisiviol by 3\n",
      "21 Is divisiviol by 3\n",
      "24 Is divisiviol by 3\n"
     ]
    }
   ],
   "source": [
    "# CODE FOR Q6.\n",
    "lis = [1,2,3,4,5,6,7,8,9,10,11,12,13,14,15,16,17,18,19,20,21,22,23,24,25]\n",
    "for i in lis:\n",
    "    if i % 3 == 0:\n",
    "        print(i,\"Is divisiviol by 3\")\n",
    "    "
   ]
  },
  {
   "cell_type": "markdown",
   "id": "ccbe11b8-7cc2-4f5e-bc0d-8b59bf8300b7",
   "metadata": {},
   "source": [
    "Q7. What do you understand about mutable and immutable data types? Give examples for both showing\n",
    "this property.\n",
    "Ans. \n",
    "\n",
    "Mutable --> mutable that data types . that is possible to change(update) their values. \n",
    "immutable--> immutable that data types. that is not possible to change(udate) their values."
   ]
  },
  {
   "cell_type": "code",
   "execution_count": 3,
   "id": "553bb2ac-bd50-4e13-8ab6-11365dca2026",
   "metadata": {},
   "outputs": [
    {
     "name": "stdout",
     "output_type": "stream",
     "text": [
      "[22, 2, 3, 5, 6, 7, 8]\n",
      "R\n"
     ]
    },
    {
     "ename": "TypeError",
     "evalue": "'str' object does not support item assignment",
     "output_type": "error",
     "traceback": [
      "\u001b[1;31m---------------------------------------------------------------------------\u001b[0m",
      "\u001b[1;31mTypeError\u001b[0m                                 Traceback (most recent call last)",
      "Cell \u001b[1;32mIn[3], line 10\u001b[0m\n\u001b[0;32m      8\u001b[0m strr \u001b[38;5;241m=\u001b[39m \u001b[38;5;124m\"\u001b[39m\u001b[38;5;124mROHIT\u001b[39m\u001b[38;5;124m\"\u001b[39m\n\u001b[0;32m      9\u001b[0m \u001b[38;5;28mprint\u001b[39m(strr[\u001b[38;5;241m0\u001b[39m])\n\u001b[1;32m---> 10\u001b[0m strr[\u001b[38;5;241m0\u001b[39m] \u001b[38;5;241m=\u001b[39m \u001b[38;5;124m\"\u001b[39m\u001b[38;5;124mS\u001b[39m\u001b[38;5;124m\"\u001b[39m\n",
      "\u001b[1;31mTypeError\u001b[0m: 'str' object does not support item assignment"
     ]
    }
   ],
   "source": [
    "# Code for Q7.\n",
    "# Let's create a mutable data type in python \n",
    "lis = [1,2,3,5,6,7,8]\n",
    "lis[0] = 22 # change the value of index 0 \n",
    "print(lis)\n",
    "\n",
    "# Now creat immutable data type in python.\n",
    "strr = \"ROHIT\"\n",
    "print(strr[0])\n",
    "strr[0] = \"S\" # it wlill show an error because string is immutable that can not be modified"
   ]
  }
 ],
 "metadata": {
  "kernelspec": {
   "display_name": "Python 3 (ipykernel)",
   "language": "python",
   "name": "python3"
  },
  "language_info": {
   "codemirror_mode": {
    "name": "ipython",
    "version": 3
   },
   "file_extension": ".py",
   "mimetype": "text/x-python",
   "name": "python",
   "nbconvert_exporter": "python",
   "pygments_lexer": "ipython3",
   "version": "3.9.16"
  }
 },
 "nbformat": 4,
 "nbformat_minor": 5
}
